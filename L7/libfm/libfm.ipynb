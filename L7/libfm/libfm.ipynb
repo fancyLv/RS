{
 "cells": [
  {
   "cell_type": "code",
   "execution_count": 16,
   "metadata": {
    "ExecuteTime": {
     "end_time": "2020-03-07T17:36:33.182902Z",
     "start_time": "2020-03-07T17:36:30.023498Z"
    }
   },
   "outputs": [
    {
     "name": "stdout",
     "output_type": "stream",
     "text": [
      "transforming file ./MovieLens/ratings.csv to ./MovieLens/ratings.csv.libfm...\r\n"
     ]
    }
   ],
   "source": [
    "!perl triple_format_to_libfm.pl --in './MovieLens/ratings.csv' --header 1 --target_column 2 --delete_column 3 --separator \",\"\n"
   ]
  },
  {
   "cell_type": "code",
   "execution_count": 19,
   "metadata": {
    "ExecuteTime": {
     "end_time": "2020-03-07T17:39:48.859053Z",
     "start_time": "2020-03-07T17:39:26.008760Z"
    },
    "scrolled": false
   },
   "outputs": [
    {
     "name": "stdout",
     "output_type": "stream",
     "text": [
      "----------------------------------------------------------------------------\n",
      "libFM\n",
      "  Version: 1.4.4\n",
      "  Author:  Steffen Rendle, srendle@libfm.org\n",
      "  WWW:     http://www.libfm.org/\n",
      "This program comes with ABSOLUTELY NO WARRANTY; for details see license.txt.\n",
      "This is free software, and you are welcome to redistribute it under certain\n",
      "conditions; for details see license.txt.\n",
      "----------------------------------------------------------------------------\n",
      "Loading train...\t\n",
      "has x = 1\n",
      "has xt = 0\n",
      "num_rows=1048575\tnum_values=2097150\tnum_features=21146\tmin_target=0.5\tmax_target=5\n",
      "Loading test... \t\n",
      "has x = 1\n",
      "has xt = 0\n",
      "num_rows=1048575\tnum_values=2097150\tnum_features=21146\tmin_target=0.5\tmax_target=5\n",
      "#relations: 0\n",
      "Loading meta data...\t\n",
      "learnrate=0.01\n",
      "learnrates=0.01,0.01,0.01\n",
      "#iterations=100\n",
      "SGD: DON'T FORGET TO SHUFFLE THE ROWS IN TRAINING DATA TO GET THE BEST RESULTS.\n",
      "#Iter=  0\tTrain=0.970438\tTest=0.970438\n",
      "#Iter=  1\tTrain=0.930378\tTest=0.930378\n",
      "#Iter=  2\tTrain=0.906761\tTest=0.906761\n",
      "#Iter=  3\tTrain=0.88464\tTest=0.88464\n",
      "#Iter=  4\tTrain=0.860928\tTest=0.860928\n",
      "#Iter=  5\tTrain=0.83867\tTest=0.83867\n",
      "#Iter=  6\tTrain=0.81959\tTest=0.81959\n",
      "#Iter=  7\tTrain=0.80428\tTest=0.80428\n",
      "#Iter=  8\tTrain=0.792244\tTest=0.792244\n",
      "#Iter=  9\tTrain=0.782654\tTest=0.782654\n",
      "#Iter= 10\tTrain=0.774832\tTest=0.774832\n",
      "#Iter= 11\tTrain=0.768312\tTest=0.768312\n",
      "#Iter= 12\tTrain=0.762782\tTest=0.762782\n",
      "#Iter= 13\tTrain=0.758035\tTest=0.758035\n",
      "#Iter= 14\tTrain=0.753928\tTest=0.753928\n",
      "#Iter= 15\tTrain=0.750352\tTest=0.750352\n",
      "#Iter= 16\tTrain=0.747227\tTest=0.747227\n",
      "#Iter= 17\tTrain=0.744487\tTest=0.744487\n",
      "#Iter= 18\tTrain=0.742078\tTest=0.742078\n",
      "#Iter= 19\tTrain=0.739957\tTest=0.739957\n",
      "#Iter= 20\tTrain=0.738085\tTest=0.738085\n",
      "#Iter= 21\tTrain=0.736428\tTest=0.736428\n",
      "#Iter= 22\tTrain=0.734953\tTest=0.734953\n",
      "#Iter= 23\tTrain=0.733629\tTest=0.733629\n",
      "#Iter= 24\tTrain=0.732428\tTest=0.732428\n",
      "#Iter= 25\tTrain=0.731326\tTest=0.731326\n",
      "#Iter= 26\tTrain=0.730301\tTest=0.730301\n",
      "#Iter= 27\tTrain=0.729335\tTest=0.729335\n",
      "#Iter= 28\tTrain=0.728414\tTest=0.728414\n",
      "#Iter= 29\tTrain=0.72753\tTest=0.72753\n",
      "#Iter= 30\tTrain=0.726675\tTest=0.726675\n",
      "#Iter= 31\tTrain=0.725846\tTest=0.725846\n",
      "#Iter= 32\tTrain=0.725044\tTest=0.725044\n",
      "#Iter= 33\tTrain=0.72427\tTest=0.72427\n",
      "#Iter= 34\tTrain=0.723526\tTest=0.723526\n",
      "#Iter= 35\tTrain=0.722806\tTest=0.722806\n",
      "#Iter= 36\tTrain=0.722112\tTest=0.722112\n",
      "#Iter= 37\tTrain=0.721442\tTest=0.721442\n",
      "#Iter= 38\tTrain=0.720799\tTest=0.720799\n",
      "#Iter= 39\tTrain=0.72018\tTest=0.72018\n",
      "#Iter= 40\tTrain=0.719587\tTest=0.719587\n",
      "#Iter= 41\tTrain=0.719017\tTest=0.719017\n",
      "#Iter= 42\tTrain=0.718469\tTest=0.718469\n",
      "#Iter= 43\tTrain=0.717942\tTest=0.717942\n",
      "#Iter= 44\tTrain=0.717434\tTest=0.717434\n",
      "#Iter= 45\tTrain=0.716945\tTest=0.716945\n",
      "#Iter= 46\tTrain=0.716475\tTest=0.716475\n",
      "#Iter= 47\tTrain=0.716021\tTest=0.716021\n",
      "#Iter= 48\tTrain=0.715582\tTest=0.715582\n",
      "#Iter= 49\tTrain=0.715158\tTest=0.715158\n",
      "#Iter= 50\tTrain=0.714748\tTest=0.714748\n",
      "#Iter= 51\tTrain=0.714352\tTest=0.714352\n",
      "#Iter= 52\tTrain=0.713971\tTest=0.713971\n",
      "#Iter= 53\tTrain=0.713604\tTest=0.713604\n",
      "#Iter= 54\tTrain=0.713254\tTest=0.713254\n",
      "#Iter= 55\tTrain=0.712919\tTest=0.712919\n",
      "#Iter= 56\tTrain=0.712599\tTest=0.712599\n",
      "#Iter= 57\tTrain=0.712294\tTest=0.712294\n",
      "#Iter= 58\tTrain=0.712005\tTest=0.712005\n",
      "#Iter= 59\tTrain=0.711731\tTest=0.711731\n",
      "#Iter= 60\tTrain=0.711472\tTest=0.711472\n",
      "#Iter= 61\tTrain=0.711229\tTest=0.711229\n",
      "#Iter= 62\tTrain=0.711002\tTest=0.711002\n",
      "#Iter= 63\tTrain=0.710791\tTest=0.710791\n",
      "#Iter= 64\tTrain=0.710593\tTest=0.710593\n",
      "#Iter= 65\tTrain=0.71041\tTest=0.71041\n",
      "#Iter= 66\tTrain=0.710241\tTest=0.710241\n",
      "#Iter= 67\tTrain=0.710085\tTest=0.710085\n",
      "#Iter= 68\tTrain=0.709942\tTest=0.709942\n",
      "#Iter= 69\tTrain=0.709811\tTest=0.709811\n",
      "#Iter= 70\tTrain=0.709691\tTest=0.709691\n",
      "#Iter= 71\tTrain=0.70958\tTest=0.70958\n",
      "#Iter= 72\tTrain=0.709479\tTest=0.709479\n",
      "#Iter= 73\tTrain=0.709385\tTest=0.709385\n",
      "#Iter= 74\tTrain=0.709298\tTest=0.709298\n",
      "#Iter= 75\tTrain=0.709215\tTest=0.709215\n",
      "#Iter= 76\tTrain=0.709136\tTest=0.709136\n",
      "#Iter= 77\tTrain=0.709059\tTest=0.709059\n",
      "#Iter= 78\tTrain=0.708982\tTest=0.708982\n",
      "#Iter= 79\tTrain=0.708904\tTest=0.708904\n",
      "#Iter= 80\tTrain=0.708823\tTest=0.708823\n",
      "#Iter= 81\tTrain=0.708739\tTest=0.708739\n",
      "#Iter= 82\tTrain=0.70865\tTest=0.70865\n",
      "#Iter= 83\tTrain=0.708555\tTest=0.708555\n",
      "#Iter= 84\tTrain=0.708452\tTest=0.708452\n",
      "#Iter= 85\tTrain=0.708343\tTest=0.708343\n",
      "#Iter= 86\tTrain=0.708224\tTest=0.708224\n",
      "#Iter= 87\tTrain=0.708098\tTest=0.708098\n",
      "#Iter= 88\tTrain=0.707962\tTest=0.707962\n",
      "#Iter= 89\tTrain=0.707817\tTest=0.707817\n",
      "#Iter= 90\tTrain=0.707664\tTest=0.707664\n",
      "#Iter= 91\tTrain=0.707502\tTest=0.707502\n",
      "#Iter= 92\tTrain=0.707332\tTest=0.707332\n",
      "#Iter= 93\tTrain=0.707154\tTest=0.707154\n",
      "#Iter= 94\tTrain=0.70697\tTest=0.70697\n",
      "#Iter= 95\tTrain=0.706779\tTest=0.706779\n",
      "#Iter= 96\tTrain=0.706584\tTest=0.706584\n",
      "#Iter= 97\tTrain=0.706383\tTest=0.706383\n",
      "#Iter= 98\tTrain=0.70618\tTest=0.70618\n",
      "#Iter= 99\tTrain=0.705974\tTest=0.705974\n",
      "Final\tTrain=0.705974\tTest=0.705974\n"
     ]
    }
   ],
   "source": [
    "!./libFM -task r -train ./MovieLens/ratings.csv.libfm -test ./MovieLens/ratings.csv.libfm -dim '1,1,8' -method sgd -learn_rate 0.01 -out movielens_out.txt\n"
   ]
  },
  {
   "cell_type": "code",
   "execution_count": null,
   "metadata": {},
   "outputs": [],
   "source": []
  }
 ],
 "metadata": {
  "hide_input": false,
  "kernelspec": {
   "display_name": "Python 3.7.4 64-bit ('tensorflow': conda)",
   "language": "python",
   "name": "python37464bittensorflowconda8d92e938f73742f8962ec619222b1557"
  },
  "toc": {
   "base_numbering": 1,
   "nav_menu": {},
   "number_sections": true,
   "sideBar": true,
   "skip_h1_title": false,
   "title_cell": "Table of Contents",
   "title_sidebar": "Contents",
   "toc_cell": false,
   "toc_position": {},
   "toc_section_display": true,
   "toc_window_display": false
  },
  "varInspector": {
   "cols": {
    "lenName": 16,
    "lenType": 16,
    "lenVar": 40
   },
   "kernels_config": {
    "python": {
     "delete_cmd_postfix": "",
     "delete_cmd_prefix": "del ",
     "library": "var_list.py",
     "varRefreshCmd": "print(var_dic_list())"
    },
    "r": {
     "delete_cmd_postfix": ") ",
     "delete_cmd_prefix": "rm(",
     "library": "var_list.r",
     "varRefreshCmd": "cat(var_dic_list()) "
    }
   },
   "types_to_exclude": [
    "module",
    "function",
    "builtin_function_or_method",
    "instance",
    "_Feature"
   ],
   "window_display": false
  }
 },
 "nbformat": 4,
 "nbformat_minor": 2
}
