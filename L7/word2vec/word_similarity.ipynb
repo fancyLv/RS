{
 "cells": [
  {
   "cell_type": "code",
   "execution_count": 8,
   "metadata": {
    "ExecuteTime": {
     "end_time": "2020-03-08T05:54:16.158928Z",
     "start_time": "2020-03-08T05:54:16.156027Z"
    }
   },
   "outputs": [],
   "source": [
    "import jieba\n",
    "import os\n",
    "from gensim.models import word2vec\n",
    "from gensim.models.word2vec import LineSentence\n",
    "import multiprocessing"
   ]
  },
  {
   "cell_type": "code",
   "execution_count": 1,
   "metadata": {
    "ExecuteTime": {
     "end_time": "2020-03-07T18:16:10.898428Z",
     "start_time": "2020-03-07T18:16:10.893776Z"
    }
   },
   "outputs": [],
   "source": [
    "# 字词分割，对整个文件内容进行字词分割\n",
    "def segment_lines(source_file,segment_file,stopwords=[]):\n",
    "    with open(source_file, 'rb') as f:\n",
    "        document = f.read()\n",
    "        document_cut = jieba.cut(document)\n",
    "        sentence_segment=[]\n",
    "        for word in document_cut:\n",
    "            if word not in stopwords:\n",
    "                sentence_segment.append(word)\n",
    "        result = ' '.join(sentence_segment)\n",
    "        result = result.encode('utf-8')\n",
    "        with open(segment_file, 'wb') as f2:\n",
    "            f2.write(result)"
   ]
  },
  {
   "cell_type": "code",
   "execution_count": 11,
   "metadata": {
    "ExecuteTime": {
     "end_time": "2020-03-08T05:54:54.997647Z",
     "start_time": "2020-03-08T05:54:51.592078Z"
    }
   },
   "outputs": [],
   "source": [
    "source_file = './three_kingdoms/three_kingdoms.txt'\n",
    "segment_file = './three_kingdoms/three_kingdoms_segment.txt'\n",
    "\n",
    "segment_lines(source_file, segment_file)"
   ]
  },
  {
   "cell_type": "code",
   "execution_count": 33,
   "metadata": {
    "ExecuteTime": {
     "end_time": "2020-03-08T06:21:16.766266Z",
     "start_time": "2020-03-08T06:21:15.739095Z"
    }
   },
   "outputs": [],
   "source": [
    "sentences = LineSentence(segment_file)\n",
    "\n",
    "# 设置模型参数，进行训练\n",
    "model = word2vec.Word2Vec(sentences, size=100, window=3, min_count=5,workers=multiprocessing.cpu_count())"
   ]
  },
  {
   "cell_type": "code",
   "execution_count": 37,
   "metadata": {
    "ExecuteTime": {
     "end_time": "2020-03-08T06:22:32.248468Z",
     "start_time": "2020-03-08T06:22:32.242538Z"
    }
   },
   "outputs": [
    {
     "name": "stdout",
     "output_type": "stream",
     "text": [
      "和曹操最相近的词\n"
     ]
    },
    {
     "data": {
      "text/plain": [
       "[('孙权', 0.9813499450683594),\n",
       " ('周瑜', 0.9764337539672852),\n",
       " ('荆州', 0.9666445851325989),\n",
       " ('先', 0.9633691906929016),\n",
       " ('又', 0.9625961780548096),\n",
       " ('众将', 0.9599356651306152),\n",
       " ('袁绍', 0.9581679701805115),\n",
       " ('叫', 0.9555528163909912),\n",
       " ('大惊', 0.9549837112426758),\n",
       " ('半晌', 0.9542722105979919)]"
      ]
     },
     "execution_count": 37,
     "metadata": {},
     "output_type": "execute_result"
    }
   ],
   "source": [
    "print('和曹操最相近的词')\n",
    "model.wv.most_similar('曹操')"
   ]
  },
  {
   "cell_type": "code",
   "execution_count": 35,
   "metadata": {
    "ExecuteTime": {
     "end_time": "2020-03-08T06:21:21.795951Z",
     "start_time": "2020-03-08T06:21:21.791678Z"
    }
   },
   "outputs": [
    {
     "name": "stdout",
     "output_type": "stream",
     "text": [
      "[('吾', 0.9895083904266357), ('臣', 0.9874285459518433), ('此', 0.9769575595855713), ('某', 0.9761669635772705), ('主公', 0.974709153175354), ('丞相', 0.9745670557022095), ('答', 0.9741752743721008), ('何人', 0.9733694791793823), ('允', 0.972976803779602), ('卿', 0.9724375009536743)]\n"
     ]
    }
   ],
   "source": [
    "# 曹操+刘备-张飞\n",
    "print(model.wv.most_similar(positive=['曹操', '刘备'], negative=['张飞']))"
   ]
  },
  {
   "cell_type": "code",
   "execution_count": null,
   "metadata": {},
   "outputs": [],
   "source": []
  }
 ],
 "metadata": {
  "hide_input": false,
  "kernelspec": {
   "display_name": "Python 3.7.4 64-bit ('tensorflow': conda)",
   "language": "python",
   "name": "python37464bittensorflowconda8d92e938f73742f8962ec619222b1557"
  },
  "language_info": {
   "codemirror_mode": {
    "name": "ipython",
    "version": 3
   },
   "file_extension": ".py",
   "mimetype": "text/x-python",
   "name": "python",
   "nbconvert_exporter": "python",
   "pygments_lexer": "ipython3",
   "version": "3.7.4"
  },
  "toc": {
   "base_numbering": 1,
   "nav_menu": {},
   "number_sections": true,
   "sideBar": true,
   "skip_h1_title": false,
   "title_cell": "Table of Contents",
   "title_sidebar": "Contents",
   "toc_cell": false,
   "toc_position": {},
   "toc_section_display": true,
   "toc_window_display": false
  },
  "varInspector": {
   "cols": {
    "lenName": 16,
    "lenType": 16,
    "lenVar": 40
   },
   "kernels_config": {
    "python": {
     "delete_cmd_postfix": "",
     "delete_cmd_prefix": "del ",
     "library": "var_list.py",
     "varRefreshCmd": "print(var_dic_list())"
    },
    "r": {
     "delete_cmd_postfix": ") ",
     "delete_cmd_prefix": "rm(",
     "library": "var_list.r",
     "varRefreshCmd": "cat(var_dic_list()) "
    }
   },
   "types_to_exclude": [
    "module",
    "function",
    "builtin_function_or_method",
    "instance",
    "_Feature"
   ],
   "window_display": false
  }
 },
 "nbformat": 4,
 "nbformat_minor": 2
}
