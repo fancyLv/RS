{
  "nbformat": 4,
  "nbformat_minor": 0,
  "metadata": {
    "colab": {
      "name": "surprise_svd_movielens.ipynb",
      "provenance": [],
      "collapsed_sections": [],
      "toc_visible": true,
      "mount_file_id": "1YRQ1z-kcmrV52RLcCczZYP7l753IgsUF",
      "authorship_tag": "ABX9TyMq6kaYXSnY8jv5JDex56iv",
      "include_colab_link": true
    },
    "kernelspec": {
      "name": "python3",
      "display_name": "Python 3"
    },
    "accelerator": "GPU"
  },
  "cells": [
    {
      "cell_type": "markdown",
      "metadata": {
        "id": "view-in-github",
        "colab_type": "text"
      },
      "source": [
        "<a href=\"https://colab.research.google.com/github/fancyLv/RS/blob/master/surprise_svd_movielens.ipynb\" target=\"_parent\"><img src=\"https://colab.research.google.com/assets/colab-badge.svg\" alt=\"Open In Colab\"/></a>"
      ]
    },
    {
      "cell_type": "code",
      "metadata": {
        "id": "35VCdjGNWErO",
        "colab_type": "code",
        "outputId": "949bdac2-fc73-4ead-94cc-62d4bef4c42e",
        "colab": {
          "base_uri": "https://localhost:8080/",
          "height": 325
        }
      },
      "source": [
        "!pip install surprise"
      ],
      "execution_count": 1,
      "outputs": [
        {
          "output_type": "stream",
          "text": [
            "Collecting surprise\n",
            "  Downloading https://files.pythonhosted.org/packages/61/de/e5cba8682201fcf9c3719a6fdda95693468ed061945493dea2dd37c5618b/surprise-0.1-py2.py3-none-any.whl\n",
            "Collecting scikit-surprise\n",
            "\u001b[?25l  Downloading https://files.pythonhosted.org/packages/f5/da/b5700d96495fb4f092be497f02492768a3d96a3f4fa2ae7dea46d4081cfa/scikit-surprise-1.1.0.tar.gz (6.4MB)\n",
            "\u001b[K     |████████████████████████████████| 6.5MB 5.9MB/s \n",
            "\u001b[?25hRequirement already satisfied: joblib>=0.11 in /usr/local/lib/python3.6/dist-packages (from scikit-surprise->surprise) (0.14.1)\n",
            "Requirement already satisfied: numpy>=1.11.2 in /usr/local/lib/python3.6/dist-packages (from scikit-surprise->surprise) (1.17.5)\n",
            "Requirement already satisfied: scipy>=1.0.0 in /usr/local/lib/python3.6/dist-packages (from scikit-surprise->surprise) (1.4.1)\n",
            "Requirement already satisfied: six>=1.10.0 in /usr/local/lib/python3.6/dist-packages (from scikit-surprise->surprise) (1.12.0)\n",
            "Building wheels for collected packages: scikit-surprise\n",
            "  Building wheel for scikit-surprise (setup.py) ... \u001b[?25l\u001b[?25hdone\n",
            "  Created wheel for scikit-surprise: filename=scikit_surprise-1.1.0-cp36-cp36m-linux_x86_64.whl size=1678230 sha256=ad2493af2fbfa56c3392d06878d8344d25976b08e1b637c7fbefe48a036790cf\n",
            "  Stored in directory: /root/.cache/pip/wheels/cc/fa/8c/16c93fccce688ae1bde7d979ff102f7bee980d9cfeb8641bcf\n",
            "Successfully built scikit-surprise\n",
            "Installing collected packages: scikit-surprise, surprise\n",
            "Successfully installed scikit-surprise-1.1.0 surprise-0.1\n"
          ],
          "name": "stdout"
        }
      ]
    },
    {
      "cell_type": "code",
      "metadata": {
        "id": "Ruzjb6Q6wLNJ",
        "colab_type": "code",
        "colab": {}
      },
      "source": [
        "from surprise import SVD, SVDpp\n",
        "from surprise import Dataset\n",
        "from surprise.model_selection import cross_validate\n",
        "from surprise import Reader\n",
        "from surprise import accuracy\n",
        "from surprise.model_selection import KFold, train_test_split\n",
        "import pandas as pd\n",
        "import time"
      ],
      "execution_count": 0,
      "outputs": []
    },
    {
      "cell_type": "code",
      "metadata": {
        "id": "UVHC_9Lawj4P",
        "colab_type": "code",
        "colab": {}
      },
      "source": [
        "# 数据读取\n",
        "filepath = '/content/drive/My Drive/data/MovieLens/ratings.csv'\n",
        "reader = Reader(line_format='user item rating timestamp', sep=',', skip_lines=1)\n",
        "data = Dataset.load_from_file(filepath, reader=reader)\n",
        "# train_set = data.build_full_trainset()\n",
        "trainset, testset = train_test_split(data, test_size=.25)"
      ],
      "execution_count": 0,
      "outputs": []
    },
    {
      "cell_type": "code",
      "metadata": {
        "id": "7_ApDgWgTR44",
        "colab_type": "code",
        "colab": {
          "base_uri": "https://localhost:8080/",
          "height": 143
        },
        "outputId": "b9dedc9d-30e6-4a5e-c9f2-fde29256f391"
      },
      "source": [
        "print('使用funkSVD')\n",
        "algo1 = SVD(biased=False)\n",
        "algo1.fit(trainset)\n",
        "predictions1 = algo1.test(testset)\n",
        "accuracy.rmse(predictions1,verbose=True)\n",
        "\n",
        "print('使用BiasSVD')\n",
        "algo2 = SVD(biased=True)\n",
        "algo2.fit(trainset)\n",
        "predictions2 = algo2.test(testset)\n",
        "accuracy.rmse(predictions2,verbose=True)\n",
        "\n",
        "print('使用SVD++')\n",
        "algo3 = SVDpp()\n",
        "algo3.fit(trainset)\n",
        "predictions3 = algo3.test(testset)\n",
        "accuracy.rmse(predictions3,verbose=True)"
      ],
      "execution_count": 5,
      "outputs": [
        {
          "output_type": "stream",
          "text": [
            "使用funkSVD\n",
            "RMSE: 0.8602\n",
            "使用BiasSVD\n",
            "RMSE: 0.8374\n",
            "使用SVD++\n",
            "RMSE: 0.8239\n"
          ],
          "name": "stdout"
        },
        {
          "output_type": "execute_result",
          "data": {
            "text/plain": [
              "0.8238950389270906"
            ]
          },
          "metadata": {
            "tags": []
          },
          "execution_count": 5
        }
      ]
    },
    {
      "cell_type": "code",
      "metadata": {
        "id": "g__a9oQe0iH3",
        "colab_type": "code",
        "outputId": "0059a3a4-7930-43e7-fbd2-870e10402c77",
        "colab": {
          "base_uri": "https://localhost:8080/",
          "height": 71
        }
      },
      "source": [
        "# 使用funkSVD\n",
        "algo = SVD(biased=False)\n",
        "\n",
        "# 定义K折交叉验证迭代器，K=3\n",
        "kf = KFold(n_splits=3)\n",
        "for trainset, testset in kf.split(data):\n",
        "    # 训练并预测\n",
        "    algo.fit(trainset)\n",
        "    predictions = algo.test(testset)\n",
        "    # 计算RMSE\n",
        "    accuracy.rmse(predictions, verbose=True)"
      ],
      "execution_count": 6,
      "outputs": [
        {
          "output_type": "stream",
          "text": [
            "RMSE: 0.8753\n",
            "RMSE: 0.8714\n",
            "RMSE: 0.8727\n"
          ],
          "name": "stdout"
        }
      ]
    },
    {
      "cell_type": "code",
      "metadata": {
        "id": "hMXWYiB80oaD",
        "colab_type": "code",
        "outputId": "97457d8a-e14d-4913-cc63-e6f9160bfb41",
        "colab": {
          "base_uri": "https://localhost:8080/",
          "height": 35
        }
      },
      "source": [
        "uid = str(196)\n",
        "iid = str(302)\n",
        "# 输出uid对iid的预测结果\n",
        "pred = algo.predict(uid, iid, r_ui=4, verbose=True)"
      ],
      "execution_count": 8,
      "outputs": [
        {
          "output_type": "stream",
          "text": [
            "user: 196        item: 302        r_ui = 4.00   est = 3.93   {'was_impossible': False}\n"
          ],
          "name": "stdout"
        }
      ]
    },
    {
      "cell_type": "code",
      "metadata": {
        "id": "paSnkFoy1llp",
        "colab_type": "code",
        "colab": {
          "base_uri": "https://localhost:8080/",
          "height": 71
        },
        "outputId": "5ec63b8f-63af-4629-e28a-ead516b46f6c"
      },
      "source": [
        "# 使用BiasSVD\n",
        "algo2 = SVD(biased=True)\n",
        "\n",
        "# 定义K折交叉验证迭代器，K=3\n",
        "kf = KFold(n_splits=3)\n",
        "for trainset, testset in kf.split(data):\n",
        "    # 训练并预测\n",
        "    algo2.fit(trainset)\n",
        "    predictions = algo2.test(testset)\n",
        "    # 计算RMSE\n",
        "    accuracy.rmse(predictions, verbose=True)"
      ],
      "execution_count": 9,
      "outputs": [
        {
          "output_type": "stream",
          "text": [
            "RMSE: 0.8450\n",
            "RMSE: 0.8446\n",
            "RMSE: 0.8462\n"
          ],
          "name": "stdout"
        }
      ]
    },
    {
      "cell_type": "code",
      "metadata": {
        "id": "YoTMyQyqQEnI",
        "colab_type": "code",
        "colab": {
          "base_uri": "https://localhost:8080/",
          "height": 35
        },
        "outputId": "15dc582c-7bc3-41a3-8f92-93743bc94d80"
      },
      "source": [
        "uid = str(196)\n",
        "iid = str(302)\n",
        "# 输出uid对iid的预测结果\n",
        "pred = algo2.predict(uid, iid, r_ui=4, verbose=True)"
      ],
      "execution_count": 10,
      "outputs": [
        {
          "output_type": "stream",
          "text": [
            "user: 196        item: 302        r_ui = 4.00   est = 4.19   {'was_impossible': False}\n"
          ],
          "name": "stdout"
        }
      ]
    },
    {
      "cell_type": "code",
      "metadata": {
        "id": "2JbkcycHSHSL",
        "colab_type": "code",
        "colab": {
          "base_uri": "https://localhost:8080/",
          "height": 395
        },
        "outputId": "411c592b-d7f1-4b21-b731-869f6bb630f2"
      },
      "source": [
        "# 使用SVD++\n",
        "algo3 = SVDpp()\n",
        "\n",
        "# 定义K折交叉验证迭代器，K=3\n",
        "kf = KFold(n_splits=3)\n",
        "for trainset, testset in kf.split(data):\n",
        "    # 训练并预测\n",
        "    algo3.fit(trainset)\n",
        "    predictions = algo3.test(testset)\n",
        "    # 计算RMSE\n",
        "    accuracy.rmse(predictions, verbose=True)"
      ],
      "execution_count": 14,
      "outputs": [
        {
          "output_type": "error",
          "ename": "KeyboardInterrupt",
          "evalue": "ignored",
          "traceback": [
            "\u001b[0;31m---------------------------------------------------------------------------\u001b[0m",
            "\u001b[0;31mKeyboardInterrupt\u001b[0m                         Traceback (most recent call last)",
            "\u001b[0;32m<ipython-input-14-92ad209d078a>\u001b[0m in \u001b[0;36m<module>\u001b[0;34m()\u001b[0m\n\u001b[1;32m      5\u001b[0m \u001b[0;32mfor\u001b[0m \u001b[0mtrainset\u001b[0m\u001b[0;34m,\u001b[0m \u001b[0mtestset\u001b[0m \u001b[0;32min\u001b[0m \u001b[0mkf\u001b[0m\u001b[0;34m.\u001b[0m\u001b[0msplit\u001b[0m\u001b[0;34m(\u001b[0m\u001b[0mdata\u001b[0m\u001b[0;34m)\u001b[0m\u001b[0;34m:\u001b[0m\u001b[0;34m\u001b[0m\u001b[0;34m\u001b[0m\u001b[0m\n\u001b[1;32m      6\u001b[0m     \u001b[0;31m# 训练并预测\u001b[0m\u001b[0;34m\u001b[0m\u001b[0;34m\u001b[0m\u001b[0;34m\u001b[0m\u001b[0m\n\u001b[0;32m----> 7\u001b[0;31m     \u001b[0malgo3\u001b[0m\u001b[0;34m.\u001b[0m\u001b[0mfit\u001b[0m\u001b[0;34m(\u001b[0m\u001b[0mtrainset\u001b[0m\u001b[0;34m)\u001b[0m\u001b[0;34m\u001b[0m\u001b[0;34m\u001b[0m\u001b[0m\n\u001b[0m\u001b[1;32m      8\u001b[0m     \u001b[0mpredictions\u001b[0m \u001b[0;34m=\u001b[0m \u001b[0malgo3\u001b[0m\u001b[0;34m.\u001b[0m\u001b[0mtest\u001b[0m\u001b[0;34m(\u001b[0m\u001b[0mtestset\u001b[0m\u001b[0;34m)\u001b[0m\u001b[0;34m\u001b[0m\u001b[0;34m\u001b[0m\u001b[0m\n\u001b[1;32m      9\u001b[0m     \u001b[0;31m# 计算RMSE\u001b[0m\u001b[0;34m\u001b[0m\u001b[0;34m\u001b[0m\u001b[0;34m\u001b[0m\u001b[0m\n",
            "\u001b[0;32m/usr/local/lib/python3.6/dist-packages/surprise/prediction_algorithms/matrix_factorization.pyx\u001b[0m in \u001b[0;36msurprise.prediction_algorithms.matrix_factorization.SVDpp.fit\u001b[0;34m()\u001b[0m\n",
            "\u001b[0;32m/usr/local/lib/python3.6/dist-packages/surprise/prediction_algorithms/matrix_factorization.pyx\u001b[0m in \u001b[0;36msurprise.prediction_algorithms.matrix_factorization.SVDpp.sgd\u001b[0;34m()\u001b[0m\n",
            "\u001b[0;32m/usr/local/lib/python3.6/dist-packages/surprise/trainset.py\u001b[0m in \u001b[0;36mall_ratings\u001b[0;34m(self)\u001b[0m\n\u001b[1;32m    187\u001b[0m         \u001b[0;32mfor\u001b[0m \u001b[0mu\u001b[0m\u001b[0;34m,\u001b[0m \u001b[0mu_ratings\u001b[0m \u001b[0;32min\u001b[0m \u001b[0miteritems\u001b[0m\u001b[0;34m(\u001b[0m\u001b[0mself\u001b[0m\u001b[0;34m.\u001b[0m\u001b[0mur\u001b[0m\u001b[0;34m)\u001b[0m\u001b[0;34m:\u001b[0m\u001b[0;34m\u001b[0m\u001b[0;34m\u001b[0m\u001b[0m\n\u001b[1;32m    188\u001b[0m             \u001b[0;32mfor\u001b[0m \u001b[0mi\u001b[0m\u001b[0;34m,\u001b[0m \u001b[0mr\u001b[0m \u001b[0;32min\u001b[0m \u001b[0mu_ratings\u001b[0m\u001b[0;34m:\u001b[0m\u001b[0;34m\u001b[0m\u001b[0;34m\u001b[0m\u001b[0m\n\u001b[0;32m--> 189\u001b[0;31m                 \u001b[0;32myield\u001b[0m \u001b[0mu\u001b[0m\u001b[0;34m,\u001b[0m \u001b[0mi\u001b[0m\u001b[0;34m,\u001b[0m \u001b[0mr\u001b[0m\u001b[0;34m\u001b[0m\u001b[0;34m\u001b[0m\u001b[0m\n\u001b[0m\u001b[1;32m    190\u001b[0m \u001b[0;34m\u001b[0m\u001b[0m\n\u001b[1;32m    191\u001b[0m     \u001b[0;32mdef\u001b[0m \u001b[0mbuild_testset\u001b[0m\u001b[0;34m(\u001b[0m\u001b[0mself\u001b[0m\u001b[0;34m)\u001b[0m\u001b[0;34m:\u001b[0m\u001b[0;34m\u001b[0m\u001b[0;34m\u001b[0m\u001b[0m\n",
            "\u001b[0;31mKeyboardInterrupt\u001b[0m: "
          ]
        }
      ]
    },
    {
      "cell_type": "code",
      "metadata": {
        "id": "ohbFjfd_Sixu",
        "colab_type": "code",
        "colab": {}
      },
      "source": [
        "uid = str(196)\n",
        "iid = str(302)\n",
        "# 输出uid对iid的预测结果\n",
        "pred = algo2.predict(uid, iid, r_ui=4, verbose=True)"
      ],
      "execution_count": 0,
      "outputs": []
    },
    {
      "cell_type": "code",
      "metadata": {
        "id": "_sohKuu9SoJx",
        "colab_type": "code",
        "colab": {}
      },
      "source": [
        ""
      ],
      "execution_count": 0,
      "outputs": []
    }
  ]
}