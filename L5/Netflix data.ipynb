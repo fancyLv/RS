{
 "cells": [
  {
   "cell_type": "code",
   "execution_count": 1,
   "metadata": {},
   "outputs": [],
   "source": [
    "import numpy as np \n",
    "import pandas as pd \n",
    "from surprise import Reader\n",
    "from surprise import Dataset\n",
    "from surprise import BaselineOnly\n",
    "from surprise import accuracy\n",
    "from surprise.model_selection import KFold\n",
    "from collections import deque\n",
    "from surprise import dump\n",
    "import gc"
   ]
  },
  {
   "cell_type": "code",
   "execution_count": 2,
   "metadata": {},
   "outputs": [
    {
     "name": "stdout",
     "output_type": "stream",
     "text": [
      "随机抽取20%后数据集大小 (20096102, 3)\n"
     ]
    }
   ],
   "source": [
    "df = []\n",
    "for i in range(1,5):\n",
    "    data1 = pd.read_csv(f'../input/netflix-prize-data/combined_data_{i}.txt', header=None, names=['UserId', 'Rating'], usecols=[0, 1])\n",
    "    movie_indices = [(index,int(movieID[:-1])) for index,movieID in data1[data1['Rating'].isna()]['UserId'].items()]\n",
    "    shifted_movie_indices = deque(movie_indices)\n",
    "    shifted_movie_indices.rotate(-1)\n",
    "   \n",
    "    movie_ids = []\n",
    "    for (idx1,movie_id1),(idx2,movie_id2) in zip(movie_indices,shifted_movie_indices):\n",
    "        if idx2 > idx1:\n",
    "            temp = np.full((1,(idx2-idx1-1)), movie_id1)\n",
    "        else:\n",
    "            temp = np.full((1,data1.shape[0]-idx1-1),movie_id1)\n",
    "        movie_ids = np.append(movie_ids, temp)\n",
    "    data1.dropna(inplace=True)\n",
    "    data1['MovieId'] = movie_ids.astype(int)\n",
    "    \n",
    "    # 每个文件的数据随机抽取20%训练\n",
    "    df.append(data1.sample(frac=0.20, replace=False, random_state=1))\n",
    "    \n",
    "df = pd.concat(df)\n",
    "print('随机抽取20%后数据集大小',df.shape)"
   ]
  },
  {
   "cell_type": "code",
   "execution_count": 3,
   "metadata": {},
   "outputs": [
    {
     "data": {
      "text/plain": [
       "0"
      ]
     },
     "execution_count": 3,
     "metadata": {},
     "output_type": "execute_result"
    }
   ],
   "source": [
    "# 释放内存\n",
    "del data1\n",
    "gc.collect()"
   ]
  },
  {
   "cell_type": "code",
   "execution_count": 4,
   "metadata": {},
   "outputs": [
    {
     "name": "stdout",
     "output_type": "stream",
     "text": [
      "probe对应抽取训练数据的子集大小 (281193, 3)\n"
     ]
    }
   ],
   "source": [
    "# probe集测试\n",
    "probe = pd.read_csv('../input/netflix-prize-data/probe.txt',header=None,names=['UserId'], usecols=[0])\n",
    "indices = probe[probe['UserId'].str.contains(':')][['UserId']].apply(lambda x:x['UserId'][:-1],axis=1).to_frame().reset_index()\n",
    "indices[0] = indices[0].astype(int)\n",
    "for i in range(indices.shape[0]):\n",
    "    if i == indices.shape[0] - 1:\n",
    "        probe.loc[indices.iloc[i,0]:,'MovieId'] = indices.iloc[i,1]\n",
    "    else:\n",
    "        probe.loc[indices.iloc[i,0]:indices.iloc[i+1,0],'MovieId'] = indices.iloc[i,1]\n",
    "probe = probe[~probe['UserId'].str.contains(':')]\n",
    "probe = probe.merge(df,left_on=['UserId','MovieId'],right_on=['UserId','MovieId'],how='left')\n",
    "# 抽样数据\n",
    "sub_probe = probe[~probe['Rating'].isna()]\n",
    "print('probe对应抽取训练数据的子集大小',sub_probe.shape)"
   ]
  },
  {
   "cell_type": "code",
   "execution_count": 5,
   "metadata": {},
   "outputs": [],
   "source": [
    "reader = Reader(rating_scale=(1, 5))\n",
    "data = Dataset.load_from_df(df[['UserId', 'MovieId', 'Rating']], reader)"
   ]
  },
  {
   "cell_type": "code",
   "execution_count": 6,
   "metadata": {},
   "outputs": [
    {
     "data": {
      "text/plain": [
       "19"
      ]
     },
     "execution_count": 6,
     "metadata": {},
     "output_type": "execute_result"
    }
   ],
   "source": [
    "# 释放内存\n",
    "del df\n",
    "gc.collect()"
   ]
  },
  {
   "cell_type": "code",
   "execution_count": 7,
   "metadata": {},
   "outputs": [
    {
     "name": "stdout",
     "output_type": "stream",
     "text": [
      "Estimating biases using sgd...\n",
      "RMSE: 0.9450\n",
      "Estimating biases using sgd...\n",
      "RMSE: 0.9443\n",
      "Estimating biases using sgd...\n",
      "RMSE: 0.9442\n"
     ]
    }
   ],
   "source": [
    "# 使用BaselineOnly方法\n",
    "bsl_options = {'method': 'sgd','n_epochs': 5}\n",
    "algo = BaselineOnly(bsl_options=bsl_options)\n",
    "\n",
    "# define a cross-validation iterator\n",
    "kf = KFold(n_splits=3)\n",
    "\n",
    "for trainset, testset in kf.split(data):\n",
    "\n",
    "    # train and test algorithm.\n",
    "    algo.fit(trainset)\n",
    "    predictions = algo.test(testset)\n",
    "\n",
    "    # Compute and print Root Mean Squared Error\n",
    "    accuracy.rmse(predictions, verbose=True)"
   ]
  },
  {
   "cell_type": "code",
   "execution_count": 8,
   "metadata": {},
   "outputs": [
    {
     "data": {
      "text/plain": [
       "0"
      ]
     },
     "execution_count": 8,
     "metadata": {},
     "output_type": "execute_result"
    }
   ],
   "source": [
    "# 释放内存\n",
    "del data,trainset, testset\n",
    "gc.collect()"
   ]
  },
  {
   "cell_type": "code",
   "execution_count": 10,
   "metadata": {},
   "outputs": [
    {
     "name": "stdout",
     "output_type": "stream",
     "text": [
      "RMSE: 1.0012\n"
     ]
    },
    {
     "data": {
      "text/plain": [
       "1.001233254928213"
      ]
     },
     "execution_count": 10,
     "metadata": {},
     "output_type": "execute_result"
    }
   ],
   "source": [
    "# probe子集测试\n",
    "probe_data = Dataset.load_from_df(sub_probe[['UserId', 'MovieId', 'Rating']],reader)\n",
    "trainset = probe_data.build_full_trainset()\n",
    "predictions = algo.test(trainset.build_testset())\n",
    "# 计算rmse误差\n",
    "accuracy.rmse(predictions,verbose=True)"
   ]
  },
  {
   "cell_type": "code",
   "execution_count": null,
   "metadata": {},
   "outputs": [],
   "source": []
  }
 ],
 "metadata": {
  "hide_input": false,
  "kernelspec": {
   "display_name": "Python 3",
   "language": "python",
   "name": "python3"
  },
  "language_info": {
   "codemirror_mode": {
    "name": "ipython",
    "version": 3
   },
   "file_extension": ".py",
   "mimetype": "text/x-python",
   "name": "python",
   "nbconvert_exporter": "python",
   "pygments_lexer": "ipython3",
   "version": "3.7.4"
  },
  "toc": {
   "base_numbering": 1,
   "nav_menu": {},
   "number_sections": true,
   "sideBar": true,
   "skip_h1_title": false,
   "title_cell": "Table of Contents",
   "title_sidebar": "Contents",
   "toc_cell": false,
   "toc_position": {},
   "toc_section_display": true,
   "toc_window_display": false
  },
  "varInspector": {
   "cols": {
    "lenName": 16,
    "lenType": 16,
    "lenVar": 40
   },
   "kernels_config": {
    "python": {
     "delete_cmd_postfix": "",
     "delete_cmd_prefix": "del ",
     "library": "var_list.py",
     "varRefreshCmd": "print(var_dic_list())"
    },
    "r": {
     "delete_cmd_postfix": ") ",
     "delete_cmd_prefix": "rm(",
     "library": "var_list.r",
     "varRefreshCmd": "cat(var_dic_list()) "
    }
   },
   "types_to_exclude": [
    "module",
    "function",
    "builtin_function_or_method",
    "instance",
    "_Feature"
   ],
   "window_display": false
  }
 },
 "nbformat": 4,
 "nbformat_minor": 1
}
