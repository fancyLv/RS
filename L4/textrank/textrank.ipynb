{
 "cells": [
  {
   "cell_type": "code",
   "execution_count": 1,
   "metadata": {
    "ExecuteTime": {
     "end_time": "2020-02-09T10:31:29.825791Z",
     "start_time": "2020-02-09T10:31:26.273609Z"
    }
   },
   "outputs": [],
   "source": [
    "from textrank4zh import TextRank4Keyword,TextRank4Sentence\n",
    "from snownlp import SnowNLP\n",
    "import jieba.analyse"
   ]
  },
  {
   "cell_type": "code",
   "execution_count": 2,
   "metadata": {
    "ExecuteTime": {
     "end_time": "2020-02-09T10:31:29.836129Z",
     "start_time": "2020-02-09T10:31:29.829560Z"
    }
   },
   "outputs": [],
   "source": [
    "with open('news.txt',encoding='GB18030') as f:\n",
    "    sentence = f.read()"
   ]
  },
  {
   "cell_type": "code",
   "execution_count": 3,
   "metadata": {
    "ExecuteTime": {
     "end_time": "2020-02-09T10:31:29.848530Z",
     "start_time": "2020-02-09T10:31:29.838740Z"
    }
   },
   "outputs": [
    {
     "data": {
      "text/plain": [
       "'今天，武汉市教育局发出《关于延迟2020年春季开学时间有关工作的通知》，延迟全市中小学、市属大中专院校2020年春季开学时间。\\n具体开学时间将视武汉市新冠肺炎疫情发展和防控情况，请示上级同意后另行通知。\\n2月10日前，各单位严格按照要求，做好假期各项工作。\\n2月10日开始，各区教育局组织辖区中小学、中职学校，按照教学计划安排，开展在线课程教学（方案另发）。\\n正式开学前，严禁市属各级各类学校组织各类线下课程教学、培训和集体活动。\\n各区教育局要指导辖区中小学、幼儿园，合理制定学生学习计划和生活指南，指导学生安排好居家学习和生活；要关注学生心理健康，建立离校学生情况日报制度，定期向学生了解相关情况，通过电话、网络等各种方式做好学生的个性化辅导。'"
      ]
     },
     "execution_count": 3,
     "metadata": {},
     "output_type": "execute_result"
    }
   ],
   "source": [
    "sentence"
   ]
  },
  {
   "cell_type": "code",
   "execution_count": 4,
   "metadata": {
    "ExecuteTime": {
     "end_time": "2020-02-09T10:31:30.476119Z",
     "start_time": "2020-02-09T10:31:29.850305Z"
    }
   },
   "outputs": [
    {
     "name": "stderr",
     "output_type": "stream",
     "text": [
      "Building prefix dict from the default dictionary ...\n",
      "Loading model from cache /var/folders/kb/mz5fb0651t3b4jjc3w48t8s80000gn/T/jieba.cache\n",
      "Loading model cost 0.596 seconds.\n",
      "Prefix dict has been built succesfully.\n"
     ]
    },
    {
     "name": "stdout",
     "output_type": "stream",
     "text": [
      "关键词：\n",
      "学生 0.06094147783167887\n",
      "情况 0.03322053493089593\n",
      "中小学 0.032725665441405545\n",
      "教学 0.023397301538669237\n",
      "教育局 0.02190823215813645\n",
      "做好 0.02093989243160494\n",
      "武汉市 0.02052552460004262\n",
      "指导 0.020403659215736274\n",
      "延迟 0.019289766539730153\n",
      "课程 0.018998299826258294\n",
      "安排 0.01867399264408962\n",
      "市属 0.01825369135059241\n",
      "时间 0.01816420728763171\n",
      "辖区 0.01802758823846917\n",
      "工作 0.017825859653292607\n",
      "培训 0.01649540288582155\n",
      "组织 0.015894476153464735\n",
      "开学 0.01572321872998555\n",
      "学校 0.015675777298719915\n",
      "学习 0.015643180999411893\n"
     ]
    }
   ],
   "source": [
    "tr4w = TextRank4Keyword()\n",
    "tr4w.analyze(text=sentence, window=3, lower=True)\n",
    "print('关键词：')\n",
    "for item in tr4w.get_keywords(num=20, word_min_len=2):\n",
    "    print(item.word, item.weight)"
   ]
  },
  {
   "cell_type": "code",
   "execution_count": 5,
   "metadata": {
    "ExecuteTime": {
     "end_time": "2020-02-09T10:31:30.495963Z",
     "start_time": "2020-02-09T10:31:30.478266Z"
    }
   },
   "outputs": [
    {
     "name": "stdout",
     "output_type": "stream",
     "text": [
      "摘要：\n",
      "0 今天，武汉市教育局发出《关于延迟2020年春季开学时间有关工作的通知》，延迟全市中小学、市属大中专院校2020年春季开学时间\n",
      "3 2月10日开始，各区教育局组织辖区中小学、中职学校，按照教学计划安排，开展在线课程教学（方案另发）\n",
      "6 要关注学生心理健康，建立离校学生情况日报制度，定期向学生了解相关情况，通过电话、网络等各种方式做好学生的个性化辅导\n"
     ]
    }
   ],
   "source": [
    "tr4s = TextRank4Sentence()\n",
    "tr4s.analyze(text=sentence, lower=True, source='all_filters')\n",
    "print('摘要：')\n",
    "for item in tr4s.get_key_sentences(num=3):\n",
    "    print(item.index, item.sentence)"
   ]
  },
  {
   "cell_type": "code",
   "execution_count": 6,
   "metadata": {
    "ExecuteTime": {
     "end_time": "2020-02-09T10:31:30.506036Z",
     "start_time": "2020-02-09T10:31:30.498270Z"
    }
   },
   "outputs": [
    {
     "name": "stdout",
     "output_type": "stream",
     "text": [
      "开学 0.6485997204549999\n",
      "学生 0.61749448092\n",
      "教育局 0.4799483158591072\n",
      "市属 0.3285784745064286\n",
      "武汉市 0.31542048034857145\n",
      "辖区 0.2916905848242857\n",
      "课程 0.2881712562389286\n",
      "教学 0.2644250950639286\n",
      "指导 0.22764143180785715\n",
      "时间 0.21854676602464285\n",
      "中职 0.21623068183392857\n",
      "情况 0.21467359474767858\n",
      "新冠 0.21347799112321428\n",
      "学校 0.20329235358\n",
      "教学计划 0.19564711915714286\n",
      "心理健康 0.19473116747142857\n",
      "离校 0.19004609132142858\n",
      "线下 0.17699452866803572\n",
      "居家 0.16461690044375002\n",
      "个性化 0.16050040654\n"
     ]
    }
   ],
   "source": [
    "# 通过TF-IDF获取关键词\n",
    "keywords = jieba.analyse.extract_tags( sentence,topK=20,withWeight=True,allowPOS=('n', 'nr', 'ns'))\n",
    "for item in keywords:\n",
    "    print(item[0],item[1])"
   ]
  },
  {
   "cell_type": "code",
   "execution_count": 7,
   "metadata": {
    "ExecuteTime": {
     "end_time": "2020-02-09T10:31:30.517599Z",
     "start_time": "2020-02-09T10:31:30.509441Z"
    }
   },
   "outputs": [
    {
     "name": "stdout",
     "output_type": "stream",
     "text": [
      "学生 1.0\n",
      "学校 0.4701656766797791\n",
      "开学 0.4681203347633729\n",
      "教学 0.44621407750431774\n",
      "情况 0.4458125964449713\n",
      "课程 0.42104589819490557\n",
      "辖区 0.4204404240969891\n",
      "指导 0.40650982455143114\n",
      "武汉市 0.3963685095253518\n",
      "时间 0.3872495876437628\n",
      "离校 0.3689180788700992\n",
      "市属 0.34311379829757227\n",
      "制度 0.30432666566602495\n",
      "疫情 0.2742404652104665\n",
      "教育局 0.27334282446145575\n",
      "新冠 0.2727966920055369\n",
      "线下 0.2552514303583247\n",
      "日报 0.2526022054064114\n",
      "方式 0.2500024055116104\n",
      "中职 0.2432127325502587\n"
     ]
    }
   ],
   "source": [
    "# 基于TextRank算法的关键词抽取\n",
    "keywords = jieba.analyse.textrank(sentence,topK=20,withWeight=True,allowPOS=('n', 'nr', 'ns'))\n",
    "for item in keywords:\n",
    "    print(item[0],item[1])"
   ]
  },
  {
   "cell_type": "code",
   "execution_count": null,
   "metadata": {},
   "outputs": [],
   "source": []
  }
 ],
 "metadata": {
  "hide_input": false,
  "kernelspec": {
   "display_name": "Python 3",
   "language": "python",
   "name": "python3"
  },
  "language_info": {
   "codemirror_mode": {
    "name": "ipython",
    "version": 3
   },
   "file_extension": ".py",
   "mimetype": "text/x-python",
   "name": "python",
   "nbconvert_exporter": "python",
   "pygments_lexer": "ipython3",
   "version": "3.7.4"
  },
  "toc": {
   "base_numbering": 1,
   "nav_menu": {},
   "number_sections": true,
   "sideBar": true,
   "skip_h1_title": false,
   "title_cell": "Table of Contents",
   "title_sidebar": "Contents",
   "toc_cell": false,
   "toc_position": {},
   "toc_section_display": true,
   "toc_window_display": false
  }
 },
 "nbformat": 4,
 "nbformat_minor": 2
}
