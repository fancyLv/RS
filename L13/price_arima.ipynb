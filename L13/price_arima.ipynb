{
 "cells": [
  {
   "cell_type": "code",
   "execution_count": 1,
   "metadata": {
    "ExecuteTime": {
     "end_time": "2020-04-23T17:03:07.453293Z",
     "start_time": "2020-04-23T17:03:05.472675Z"
    }
   },
   "outputs": [],
   "source": [
    "import pandas as pd\n",
    "import numpy as np\n",
    "import matplotlib.pyplot as plt\n",
    "from statsmodels.tsa.arima_model import ARMA,ARIMA\n",
    "import statsmodels.api as sm\n",
    "from itertools import product\n",
    "import calendar\n",
    "from datetime import timedelta"
   ]
  },
  {
   "cell_type": "code",
   "execution_count": 21,
   "metadata": {
    "ExecuteTime": {
     "end_time": "2020-04-24T14:34:20.010296Z",
     "start_time": "2020-04-24T14:34:20.007706Z"
    }
   },
   "outputs": [],
   "source": [
    "#隐藏警告\n",
    "import warnings\n",
    "warnings.filterwarnings('ignore')"
   ]
  },
  {
   "cell_type": "code",
   "execution_count": 22,
   "metadata": {
    "ExecuteTime": {
     "end_time": "2020-04-24T14:48:46.490590Z",
     "start_time": "2020-04-24T14:48:46.468190Z"
    }
   },
   "outputs": [],
   "source": [
    "raw_data = pd.read_csv('data/raw_data.csv')"
   ]
  },
  {
   "cell_type": "code",
   "execution_count": 23,
   "metadata": {
    "ExecuteTime": {
     "end_time": "2020-04-24T14:48:47.566781Z",
     "start_time": "2020-04-24T14:48:47.546233Z"
    }
   },
   "outputs": [],
   "source": [
    "raw_data.sort_values(by=['province','city','date'],inplace=True)"
   ]
  },
  {
   "cell_type": "code",
   "execution_count": 24,
   "metadata": {
    "ExecuteTime": {
     "end_time": "2020-04-24T14:48:48.444543Z",
     "start_time": "2020-04-24T14:48:48.429925Z"
    }
   },
   "outputs": [],
   "source": [
    "raw_data['date'] = pd.to_datetime(raw_data['date'])"
   ]
  },
  {
   "cell_type": "code",
   "execution_count": 25,
   "metadata": {
    "ExecuteTime": {
     "end_time": "2020-04-24T14:48:49.199244Z",
     "start_time": "2020-04-24T14:48:49.195871Z"
    }
   },
   "outputs": [],
   "source": [
    "raw_data.index=raw_data['date']"
   ]
  },
  {
   "cell_type": "code",
   "execution_count": 26,
   "metadata": {
    "ExecuteTime": {
     "end_time": "2020-04-24T14:48:50.340828Z",
     "start_time": "2020-04-24T14:48:50.326518Z"
    }
   },
   "outputs": [
    {
     "data": {
      "text/html": [
       "<div>\n",
       "<style scoped>\n",
       "    .dataframe tbody tr th:only-of-type {\n",
       "        vertical-align: middle;\n",
       "    }\n",
       "\n",
       "    .dataframe tbody tr th {\n",
       "        vertical-align: top;\n",
       "    }\n",
       "\n",
       "    .dataframe thead th {\n",
       "        text-align: right;\n",
       "    }\n",
       "</style>\n",
       "<table border=\"1\" class=\"dataframe\">\n",
       "  <thead>\n",
       "    <tr style=\"text-align: right;\">\n",
       "      <th></th>\n",
       "      <th>province</th>\n",
       "      <th>city</th>\n",
       "      <th>date</th>\n",
       "      <th>price</th>\n",
       "      <th>compare</th>\n",
       "    </tr>\n",
       "    <tr>\n",
       "      <th>date</th>\n",
       "      <th></th>\n",
       "      <th></th>\n",
       "      <th></th>\n",
       "      <th></th>\n",
       "      <th></th>\n",
       "    </tr>\n",
       "  </thead>\n",
       "  <tbody>\n",
       "    <tr>\n",
       "      <td>2011-01-31</td>\n",
       "      <td>一线城市</td>\n",
       "      <td>上海</td>\n",
       "      <td>2011-01-31</td>\n",
       "      <td>23058.0</td>\n",
       "      <td>2.52%↑</td>\n",
       "    </tr>\n",
       "    <tr>\n",
       "      <td>2011-02-28</td>\n",
       "      <td>一线城市</td>\n",
       "      <td>上海</td>\n",
       "      <td>2011-02-28</td>\n",
       "      <td>23421.0</td>\n",
       "      <td>1.57%↑</td>\n",
       "    </tr>\n",
       "    <tr>\n",
       "      <td>2011-03-31</td>\n",
       "      <td>一线城市</td>\n",
       "      <td>上海</td>\n",
       "      <td>2011-03-31</td>\n",
       "      <td>23548.0</td>\n",
       "      <td>0.54%↑</td>\n",
       "    </tr>\n",
       "    <tr>\n",
       "      <td>2011-04-30</td>\n",
       "      <td>一线城市</td>\n",
       "      <td>上海</td>\n",
       "      <td>2011-04-30</td>\n",
       "      <td>23570.0</td>\n",
       "      <td>0.09%↑</td>\n",
       "    </tr>\n",
       "    <tr>\n",
       "      <td>2011-05-31</td>\n",
       "      <td>一线城市</td>\n",
       "      <td>上海</td>\n",
       "      <td>2011-05-31</td>\n",
       "      <td>23679.0</td>\n",
       "      <td>0.46%↑</td>\n",
       "    </tr>\n",
       "    <tr>\n",
       "      <td>...</td>\n",
       "      <td>...</td>\n",
       "      <td>...</td>\n",
       "      <td>...</td>\n",
       "      <td>...</td>\n",
       "      <td>...</td>\n",
       "    </tr>\n",
       "    <tr>\n",
       "      <td>2019-12-31</td>\n",
       "      <td>黑龙江</td>\n",
       "      <td>齐齐哈尔</td>\n",
       "      <td>2019-12-31</td>\n",
       "      <td>5534.0</td>\n",
       "      <td>0.11%↑</td>\n",
       "    </tr>\n",
       "    <tr>\n",
       "      <td>2020-01-31</td>\n",
       "      <td>黑龙江</td>\n",
       "      <td>齐齐哈尔</td>\n",
       "      <td>2020-01-31</td>\n",
       "      <td>5546.0</td>\n",
       "      <td>0.22%↑</td>\n",
       "    </tr>\n",
       "    <tr>\n",
       "      <td>2020-02-29</td>\n",
       "      <td>黑龙江</td>\n",
       "      <td>齐齐哈尔</td>\n",
       "      <td>2020-02-29</td>\n",
       "      <td>5548.0</td>\n",
       "      <td>0.04%↑</td>\n",
       "    </tr>\n",
       "    <tr>\n",
       "      <td>2020-03-31</td>\n",
       "      <td>黑龙江</td>\n",
       "      <td>齐齐哈尔</td>\n",
       "      <td>2020-03-31</td>\n",
       "      <td>5596.0</td>\n",
       "      <td>0.87%↑</td>\n",
       "    </tr>\n",
       "    <tr>\n",
       "      <td>2020-04-30</td>\n",
       "      <td>黑龙江</td>\n",
       "      <td>齐齐哈尔</td>\n",
       "      <td>2020-04-30</td>\n",
       "      <td>5583.0</td>\n",
       "      <td>0.22%↓</td>\n",
       "    </tr>\n",
       "  </tbody>\n",
       "</table>\n",
       "<p>19445 rows × 5 columns</p>\n",
       "</div>"
      ],
      "text/plain": [
       "           province  city       date    price compare\n",
       "date                                                 \n",
       "2011-01-31     一线城市    上海 2011-01-31  23058.0  2.52%↑\n",
       "2011-02-28     一线城市    上海 2011-02-28  23421.0  1.57%↑\n",
       "2011-03-31     一线城市    上海 2011-03-31  23548.0  0.54%↑\n",
       "2011-04-30     一线城市    上海 2011-04-30  23570.0  0.09%↑\n",
       "2011-05-31     一线城市    上海 2011-05-31  23679.0  0.46%↑\n",
       "...             ...   ...        ...      ...     ...\n",
       "2019-12-31      黑龙江  齐齐哈尔 2019-12-31   5534.0  0.11%↑\n",
       "2020-01-31      黑龙江  齐齐哈尔 2020-01-31   5546.0  0.22%↑\n",
       "2020-02-29      黑龙江  齐齐哈尔 2020-02-29   5548.0  0.04%↑\n",
       "2020-03-31      黑龙江  齐齐哈尔 2020-03-31   5596.0  0.87%↑\n",
       "2020-04-30      黑龙江  齐齐哈尔 2020-04-30   5583.0  0.22%↓\n",
       "\n",
       "[19445 rows x 5 columns]"
      ]
     },
     "execution_count": 26,
     "metadata": {},
     "output_type": "execute_result"
    }
   ],
   "source": [
    "raw_data"
   ]
  },
  {
   "cell_type": "code",
   "execution_count": 7,
   "metadata": {
    "ExecuteTime": {
     "end_time": "2020-04-23T17:03:25.761638Z",
     "start_time": "2020-04-23T17:03:25.754431Z"
    }
   },
   "outputs": [],
   "source": [
    "def arima_model(df):\n",
    "    # 设置参数范围\n",
    "    ps = range(0, 5)\n",
    "    qs = range(0, 5)\n",
    "    ds = range(1, 3)\n",
    "    parameters = product(ps, ds, qs)\n",
    "    parameters_list = list(parameters)\n",
    "    # 寻找最优ARMA模型参数，即best_aic最小\n",
    "    results = []\n",
    "    best_aic = float(\"inf\")  # 正无穷\n",
    "    for param in parameters_list:\n",
    "        try:\n",
    "            #model = ARIMA(df_month.Price,order=(param[0], param[1], param[2])).fit()\n",
    "            # SARIMAX 包含季节趋势因素的ARIMA模型\n",
    "            model = sm.tsa.statespace.SARIMAX(df['price'],\n",
    "                                              order=(param[0], param[1], param[2]),\n",
    "                                              #seasonal_order=(4, 1, 2, 12),\n",
    "                                              enforce_stationarity=False,\n",
    "                                              enforce_invertibility=False).fit()\n",
    "\n",
    "        except ValueError:\n",
    "            print('参数错误:', param)\n",
    "            continue\n",
    "        aic = model.aic\n",
    "        if aic < best_aic:\n",
    "            best_model = model\n",
    "            best_aic = aic\n",
    "            best_param = param\n",
    "        results.append([param, model.aic])\n",
    "    # 输出最优模型\n",
    "    # print('最优模型: ', best_model.summary())\n",
    "    return best_model"
   ]
  },
  {
   "cell_type": "code",
   "execution_count": 9,
   "metadata": {
    "ExecuteTime": {
     "end_time": "2020-04-23T17:03:53.544792Z",
     "start_time": "2020-04-23T17:03:53.536574Z"
    }
   },
   "outputs": [
    {
     "name": "stdout",
     "output_type": "stream",
     "text": [
      "date_list= [Timestamp('2020-05-31 00:00:00'), Timestamp('2020-06-30 00:00:00'), Timestamp('2020-07-31 00:00:00')]\n"
     ]
    }
   ],
   "source": [
    "# 设置future_month，需要预测的时间date_list\n",
    "df_month = raw_data[['price']]\n",
    "future_month = 3\n",
    "last_month = pd.to_datetime(df_month.index[len(df_month)-1])\n",
    "date_list = []\n",
    "for i in range(future_month):\n",
    "    # 计算下个月有多少天\n",
    "    year = last_month.year\n",
    "    month = last_month.month\n",
    "    if month == 12:\n",
    "        month = 1\n",
    "        year = year+1\n",
    "    else:\n",
    "        month = month + 1\n",
    "    next_month_days = calendar.monthrange(year, month)[1]\n",
    "    #print(next_month_days)\n",
    "    last_month = last_month + timedelta(days=next_month_days)\n",
    "    date_list.append(last_month)\n",
    "print('date_list=', date_list)"
   ]
  },
  {
   "cell_type": "code",
   "execution_count": null,
   "metadata": {
    "ExecuteTime": {
     "end_time": "2020-04-24T15:08:22.162617Z",
     "start_time": "2020-04-24T14:48:59.518000Z"
    },
    "scrolled": false
   },
   "outputs": [],
   "source": [
    "for index, city in enumerate(raw_data['city'].unique()):\n",
    "    df = raw_data[raw_data['city'] == city]\n",
    "    model = arima_model(df)\n",
    "    future = pd.DataFrame(index=date_list, columns=df.columns)\n",
    "    df_month = pd.concat([df, future])\n",
    "\n",
    "    # get_prediction得到的是区间，使用predicted_mean\n",
    "    df_month['forecast'] = model.get_prediction(\n",
    "        start=0, end=len(df_month)).predicted_mean\n",
    "    df_month['date'] = df_month.index\n",
    "    df_month['province'].fillna(df['province'].values[0], inplace=True)\n",
    "    df_month['city'] = city\n",
    "    if index != 0:\n",
    "        df_month.to_csv('data/data.csv', mode='a', header=False)\n",
    "    else:\n",
    "        df_month.to_csv('data/data.csv')\n"
   ]
  },
  {
   "cell_type": "code",
   "execution_count": null,
   "metadata": {},
   "outputs": [],
   "source": []
  }
 ],
 "metadata": {
  "hide_input": false,
  "kernelspec": {
   "display_name": "Python 3.7.4 64-bit ('tensorflow': conda)",
   "language": "python",
   "name": "python37464bittensorflowconda8d92e938f73742f8962ec619222b1557"
  },
  "language_info": {
   "codemirror_mode": {
    "name": "ipython",
    "version": 3
   },
   "file_extension": ".py",
   "mimetype": "text/x-python",
   "name": "python",
   "nbconvert_exporter": "python",
   "pygments_lexer": "ipython3",
   "version": "3.7.4"
  },
  "notify_time": "5",
  "toc": {
   "base_numbering": 1,
   "nav_menu": {},
   "number_sections": true,
   "sideBar": true,
   "skip_h1_title": false,
   "title_cell": "Table of Contents",
   "title_sidebar": "Contents",
   "toc_cell": false,
   "toc_position": {},
   "toc_section_display": true,
   "toc_window_display": false
  },
  "varInspector": {
   "cols": {
    "lenName": 16,
    "lenType": 16,
    "lenVar": 40
   },
   "kernels_config": {
    "python": {
     "delete_cmd_postfix": "",
     "delete_cmd_prefix": "del ",
     "library": "var_list.py",
     "varRefreshCmd": "print(var_dic_list())"
    },
    "r": {
     "delete_cmd_postfix": ") ",
     "delete_cmd_prefix": "rm(",
     "library": "var_list.r",
     "varRefreshCmd": "cat(var_dic_list()) "
    }
   },
   "types_to_exclude": [
    "module",
    "function",
    "builtin_function_or_method",
    "instance",
    "_Feature"
   ],
   "window_display": false
  }
 },
 "nbformat": 4,
 "nbformat_minor": 2
}
