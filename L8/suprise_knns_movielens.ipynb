{
 "cells": [
  {
   "cell_type": "code",
   "execution_count": 4,
   "metadata": {
    "ExecuteTime": {
     "end_time": "2020-03-15T14:03:26.087432Z",
     "start_time": "2020-03-15T14:03:26.084768Z"
    }
   },
   "outputs": [],
   "source": [
    "from surprise import KNNBasic, KNNWithMeans, KNNWithZScore, KNNBaseline\n",
    "from surprise import Dataset\n",
    "from surprise import Reader\n",
    "from surprise.model_selection import cross_validate"
   ]
  },
  {
   "cell_type": "code",
   "execution_count": 5,
   "metadata": {
    "ExecuteTime": {
     "end_time": "2020-03-15T14:03:28.267133Z",
     "start_time": "2020-03-15T14:03:26.567088Z"
    }
   },
   "outputs": [],
   "source": [
    "file_path = '../data/MovieLens/ratings.csv'\n",
    "reader = Reader(line_format='user item rating timestamp', sep=',', skip_lines=1)\n",
    "\n",
    "data = Dataset.load_from_file(file_path, reader=reader)"
   ]
  },
  {
   "cell_type": "code",
   "execution_count": 8,
   "metadata": {
    "ExecuteTime": {
     "end_time": "2020-03-15T14:58:48.100822Z",
     "start_time": "2020-03-15T14:19:13.126424Z"
    }
   },
   "outputs": [
    {
     "name": "stdout",
     "output_type": "stream",
     "text": [
      "Computing the msd similarity matrix...\n",
      "Done computing similarity matrix.\n",
      "Computing the msd similarity matrix...\n",
      "Done computing similarity matrix.\n",
      "Computing the msd similarity matrix...\n",
      "Done computing similarity matrix.\n",
      "Evaluating RMSE, MAE of algorithm KNNBasic on 3 split(s).\n",
      "\n",
      "                  Fold 1  Fold 2  Fold 3  Mean    Std     \n",
      "RMSE (testset)    0.9042  0.9025  0.9045  0.9038  0.0009  \n",
      "MAE (testset)     0.6915  0.6905  0.6911  0.6910  0.0004  \n",
      "Fit time          21.87   24.70   24.64   23.74   1.32    \n",
      "Test time         165.06  162.67  160.20  162.65  1.98    \n",
      "--------------------------------------------------\n",
      "Computing the msd similarity matrix...\n",
      "Done computing similarity matrix.\n",
      "Computing the msd similarity matrix...\n",
      "Done computing similarity matrix.\n",
      "Computing the msd similarity matrix...\n",
      "Done computing similarity matrix.\n",
      "Evaluating RMSE, MAE of algorithm KNNWithMeans on 3 split(s).\n",
      "\n",
      "                  Fold 1  Fold 2  Fold 3  Mean    Std     \n",
      "RMSE (testset)    0.8809  0.8803  0.8797  0.8803  0.0005  \n",
      "MAE (testset)     0.6788  0.6781  0.6787  0.6786  0.0003  \n",
      "Fit time          23.31   22.30   22.84   22.82   0.41    \n",
      "Test time         171.32  173.57  164.76  169.88  3.74    \n",
      "--------------------------------------------------\n",
      "Computing the msd similarity matrix...\n",
      "Done computing similarity matrix.\n",
      "Computing the msd similarity matrix...\n",
      "Done computing similarity matrix.\n",
      "Computing the msd similarity matrix...\n",
      "Done computing similarity matrix.\n",
      "Evaluating RMSE, MAE of algorithm KNNWithZScore on 3 split(s).\n",
      "\n",
      "                  Fold 1  Fold 2  Fold 3  Mean    Std     \n",
      "RMSE (testset)    0.8799  0.8760  0.8812  0.8791  0.0022  \n",
      "MAE (testset)     0.6740  0.6716  0.6752  0.6736  0.0015  \n",
      "Fit time          22.19   23.16   22.42   22.59   0.41    \n",
      "Test time         181.59  169.94  168.70  173.41  5.81    \n",
      "--------------------------------------------------\n",
      "Estimating biases using als...\n",
      "Computing the msd similarity matrix...\n",
      "Done computing similarity matrix.\n",
      "Estimating biases using als...\n",
      "Computing the msd similarity matrix...\n",
      "Done computing similarity matrix.\n",
      "Estimating biases using als...\n",
      "Computing the msd similarity matrix...\n",
      "Done computing similarity matrix.\n",
      "Evaluating RMSE, MAE of algorithm KNNBaseline on 3 split(s).\n",
      "\n",
      "                  Fold 1  Fold 2  Fold 3  Mean    Std     \n",
      "RMSE (testset)    0.8590  0.8572  0.8584  0.8582  0.0007  \n",
      "MAE (testset)     0.6595  0.6578  0.6584  0.6586  0.0007  \n",
      "Fit time          25.62   25.56   27.87   26.35   1.08    \n",
      "Test time         177.22  186.08  176.38  179.89  4.39    \n",
      "--------------------------------------------------\n"
     ]
    }
   ],
   "source": [
    "algo1 = KNNBasic()\n",
    "algo2 = KNNWithMeans()\n",
    "algo3 = KNNWithZScore()\n",
    "algo4 = KNNBaseline()\n",
    "algos = (algo1,algo2,algo3,algo4)\n",
    "\n",
    "for algo in algos:\n",
    "    #运行3折交叉验证并打印结果\n",
    "    cross_validate(algo, data, measures=['RMSE', 'MAE'], cv=3, verbose=True)\n",
    "    print('-'*50)"
   ]
  },
  {
   "cell_type": "code",
   "execution_count": null,
   "metadata": {},
   "outputs": [],
   "source": []
  }
 ],
 "metadata": {
  "hide_input": false,
  "kernelspec": {
   "display_name": "Python 3.7.4 64-bit ('tensorflow': conda)",
   "language": "python",
   "name": "python37464bittensorflowconda8d92e938f73742f8962ec619222b1557"
  },
  "language_info": {
   "codemirror_mode": {
    "name": "ipython",
    "version": 3
   },
   "file_extension": ".py",
   "mimetype": "text/x-python",
   "name": "python",
   "nbconvert_exporter": "python",
   "pygments_lexer": "ipython3",
   "version": "3.7.4"
  },
  "toc": {
   "base_numbering": 1,
   "nav_menu": {},
   "number_sections": true,
   "sideBar": true,
   "skip_h1_title": false,
   "title_cell": "Table of Contents",
   "title_sidebar": "Contents",
   "toc_cell": false,
   "toc_position": {},
   "toc_section_display": true,
   "toc_window_display": false
  },
  "varInspector": {
   "cols": {
    "lenName": 16,
    "lenType": 16,
    "lenVar": 40
   },
   "kernels_config": {
    "python": {
     "delete_cmd_postfix": "",
     "delete_cmd_prefix": "del ",
     "library": "var_list.py",
     "varRefreshCmd": "print(var_dic_list())"
    },
    "r": {
     "delete_cmd_postfix": ") ",
     "delete_cmd_prefix": "rm(",
     "library": "var_list.r",
     "varRefreshCmd": "cat(var_dic_list()) "
    }
   },
   "types_to_exclude": [
    "module",
    "function",
    "builtin_function_or_method",
    "instance",
    "_Feature"
   ],
   "window_display": false
  }
 },
 "nbformat": 4,
 "nbformat_minor": 2
}
