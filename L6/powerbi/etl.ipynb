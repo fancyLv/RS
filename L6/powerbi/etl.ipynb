{
 "cells": [
  {
   "cell_type": "code",
   "execution_count": 1,
   "metadata": {
    "ExecuteTime": {
     "end_time": "2020-02-25T16:48:18.036211Z",
     "start_time": "2020-02-25T16:48:17.509355Z"
    }
   },
   "outputs": [],
   "source": [
    "import json\n",
    "import time\n",
    "import pandas as pd"
   ]
  },
  {
   "cell_type": "code",
   "execution_count": 2,
   "metadata": {
    "ExecuteTime": {
     "end_time": "2020-02-25T16:48:18.938519Z",
     "start_time": "2020-02-25T16:48:18.701406Z"
    }
   },
   "outputs": [],
   "source": [
    "with open('area.json') as f:\n",
    "    data = json.load(f)"
   ]
  },
  {
   "cell_type": "code",
   "execution_count": 3,
   "metadata": {
    "ExecuteTime": {
     "end_time": "2020-02-25T16:48:21.317921Z",
     "start_time": "2020-02-25T16:48:21.109828Z"
    }
   },
   "outputs": [],
   "source": [
    "success = data['success']\n",
    "if success:\n",
    "    result_data = []\n",
    "    results = data['results']\n",
    "    for result in results:\n",
    "        provinceName = result['provinceName']\n",
    "        # currentConfirmedCount = result['currentConfirmedCount']\n",
    "        confirmedCount = result['confirmedCount']\n",
    "        suspectedCount = result['suspectedCount']\n",
    "        curedCount = result['curedCount']\n",
    "        deadCount = result['deadCount']\n",
    "        countryName = result['countryName']\n",
    "        continentName = result.get('continentName')\n",
    "        updateTime = time.strftime('%Y-%m-%d %H:%M:%S',time.localtime(result['updateTime']/1000))\n",
    "        if 'cities' in result and result['cities']:\n",
    "            for city in result['cities']:\n",
    "                cityName = city['cityName']\n",
    "                confirmedCount = city['confirmedCount']\n",
    "                suspectedCount = city['suspectedCount']\n",
    "                curedCount = city['curedCount']\n",
    "                deadCount = city['deadCount']\n",
    "                temp_dict = {'province': provinceName, 'city': cityName, 'updateTime': updateTime,\n",
    "                             'confirmedCount': confirmedCount, 'suspectedCount': suspectedCount,\n",
    "                             'curedCount': curedCount, 'deadCount': deadCount,'country':countryName,'continent':continentName}\n",
    "                result_data.append(temp_dict)\n",
    "        else:\n",
    "            temp_dict = {'province': provinceName,  'updateTime': updateTime,\n",
    "                         'confirmedCount': confirmedCount, 'suspectedCount': suspectedCount,\n",
    "                         'curedCount': curedCount, 'deadCount': deadCount, 'country': countryName,\n",
    "                         'continent': continentName}\n",
    "\n",
    "            result_data.append(temp_dict)\n",
    "\n",
    "    df = pd.DataFrame(result_data)"
   ]
  },
  {
   "cell_type": "code",
   "execution_count": 7,
   "metadata": {
    "ExecuteTime": {
     "end_time": "2020-02-25T16:49:43.320561Z",
     "start_time": "2020-02-25T16:49:43.298613Z"
    }
   },
   "outputs": [
    {
     "name": "stdout",
     "output_type": "stream",
     "text": [
      "<class 'pandas.core.frame.DataFrame'>\n",
      "RangeIndex: 57388 entries, 0 to 57387\n",
      "Data columns (total 9 columns):\n",
      "province          57388 non-null object\n",
      "city              55500 non-null object\n",
      "updateTime        57388 non-null object\n",
      "confirmedCount    57388 non-null int64\n",
      "suspectedCount    57385 non-null float64\n",
      "curedCount        57388 non-null int64\n",
      "deadCount         57388 non-null int64\n",
      "country           57388 non-null object\n",
      "continent         57341 non-null object\n",
      "dtypes: float64(1), int64(3), object(5)\n",
      "memory usage: 3.9+ MB\n"
     ]
    }
   ],
   "source": [
    "df.info()"
   ]
  },
  {
   "cell_type": "code",
   "execution_count": 9,
   "metadata": {
    "ExecuteTime": {
     "end_time": "2020-02-25T16:50:51.153235Z",
     "start_time": "2020-02-25T16:50:51.130864Z"
    }
   },
   "outputs": [],
   "source": [
    "df['updateTime'] = pd.to_datetime(df['updateTime'])"
   ]
  },
  {
   "cell_type": "code",
   "execution_count": 10,
   "metadata": {
    "ExecuteTime": {
     "end_time": "2020-02-25T16:51:34.507998Z",
     "start_time": "2020-02-25T16:51:34.495537Z"
    }
   },
   "outputs": [],
   "source": [
    "df.sort_values(by=['updateTime'],ascending=False,inplace=True)"
   ]
  },
  {
   "cell_type": "code",
   "execution_count": 14,
   "metadata": {
    "ExecuteTime": {
     "end_time": "2020-02-25T16:53:02.196993Z",
     "start_time": "2020-02-25T16:53:02.179676Z"
    }
   },
   "outputs": [],
   "source": [
    "df['updateTime'] = df['updateTime'].dt.date"
   ]
  },
  {
   "cell_type": "code",
   "execution_count": 15,
   "metadata": {
    "ExecuteTime": {
     "end_time": "2020-02-25T16:53:07.648336Z",
     "start_time": "2020-02-25T16:53:07.632308Z"
    }
   },
   "outputs": [
    {
     "data": {
      "text/html": [
       "<div>\n",
       "<style scoped>\n",
       "    .dataframe tbody tr th:only-of-type {\n",
       "        vertical-align: middle;\n",
       "    }\n",
       "\n",
       "    .dataframe tbody tr th {\n",
       "        vertical-align: top;\n",
       "    }\n",
       "\n",
       "    .dataframe thead th {\n",
       "        text-align: right;\n",
       "    }\n",
       "</style>\n",
       "<table border=\"1\" class=\"dataframe\">\n",
       "  <thead>\n",
       "    <tr style=\"text-align: right;\">\n",
       "      <th></th>\n",
       "      <th>province</th>\n",
       "      <th>city</th>\n",
       "      <th>updateTime</th>\n",
       "      <th>confirmedCount</th>\n",
       "      <th>suspectedCount</th>\n",
       "      <th>curedCount</th>\n",
       "      <th>deadCount</th>\n",
       "      <th>country</th>\n",
       "      <th>continent</th>\n",
       "    </tr>\n",
       "  </thead>\n",
       "  <tbody>\n",
       "    <tr>\n",
       "      <td>0</td>\n",
       "      <td>江西省</td>\n",
       "      <td>九江</td>\n",
       "      <td>2020-02-25</td>\n",
       "      <td>118</td>\n",
       "      <td>0.0</td>\n",
       "      <td>62</td>\n",
       "      <td>0</td>\n",
       "      <td>中国</td>\n",
       "      <td>亚洲</td>\n",
       "    </tr>\n",
       "    <tr>\n",
       "      <td>24</td>\n",
       "      <td>湖南省</td>\n",
       "      <td>湘西自治州</td>\n",
       "      <td>2020-02-25</td>\n",
       "      <td>8</td>\n",
       "      <td>0.0</td>\n",
       "      <td>8</td>\n",
       "      <td>0</td>\n",
       "      <td>中国</td>\n",
       "      <td>亚洲</td>\n",
       "    </tr>\n",
       "    <tr>\n",
       "      <td>26</td>\n",
       "      <td>四川省</td>\n",
       "      <td>成都</td>\n",
       "      <td>2020-02-25</td>\n",
       "      <td>143</td>\n",
       "      <td>0.0</td>\n",
       "      <td>79</td>\n",
       "      <td>3</td>\n",
       "      <td>中国</td>\n",
       "      <td>亚洲</td>\n",
       "    </tr>\n",
       "    <tr>\n",
       "      <td>27</td>\n",
       "      <td>四川省</td>\n",
       "      <td>甘孜州</td>\n",
       "      <td>2020-02-25</td>\n",
       "      <td>69</td>\n",
       "      <td>0.0</td>\n",
       "      <td>18</td>\n",
       "      <td>0</td>\n",
       "      <td>中国</td>\n",
       "      <td>亚洲</td>\n",
       "    </tr>\n",
       "    <tr>\n",
       "      <td>28</td>\n",
       "      <td>四川省</td>\n",
       "      <td>达州</td>\n",
       "      <td>2020-02-25</td>\n",
       "      <td>42</td>\n",
       "      <td>0.0</td>\n",
       "      <td>15</td>\n",
       "      <td>0</td>\n",
       "      <td>中国</td>\n",
       "      <td>亚洲</td>\n",
       "    </tr>\n",
       "  </tbody>\n",
       "</table>\n",
       "</div>"
      ],
      "text/plain": [
       "   province   city  updateTime  confirmedCount  suspectedCount  curedCount  \\\n",
       "0       江西省     九江  2020-02-25             118             0.0          62   \n",
       "24      湖南省  湘西自治州  2020-02-25               8             0.0           8   \n",
       "26      四川省     成都  2020-02-25             143             0.0          79   \n",
       "27      四川省    甘孜州  2020-02-25              69             0.0          18   \n",
       "28      四川省     达州  2020-02-25              42             0.0          15   \n",
       "\n",
       "    deadCount country continent  \n",
       "0           0      中国        亚洲  \n",
       "24          0      中国        亚洲  \n",
       "26          3      中国        亚洲  \n",
       "27          0      中国        亚洲  \n",
       "28          0      中国        亚洲  "
      ]
     },
     "execution_count": 15,
     "metadata": {},
     "output_type": "execute_result"
    }
   ],
   "source": [
    "df.head()"
   ]
  },
  {
   "cell_type": "code",
   "execution_count": null,
   "metadata": {},
   "outputs": [],
   "source": []
  }
 ],
 "metadata": {
  "hide_input": false,
  "kernelspec": {
   "display_name": "Python 3.7.4 64-bit ('tensorflow': conda)",
   "language": "python",
   "name": "python37464bittensorflowconda8d92e938f73742f8962ec619222b1557"
  },
  "language_info": {
   "codemirror_mode": {
    "name": "ipython",
    "version": 3
   },
   "file_extension": ".py",
   "mimetype": "text/x-python",
   "name": "python",
   "nbconvert_exporter": "python",
   "pygments_lexer": "ipython3",
   "version": "3.7.4"
  },
  "toc": {
   "base_numbering": 1,
   "nav_menu": {},
   "number_sections": true,
   "sideBar": true,
   "skip_h1_title": false,
   "title_cell": "Table of Contents",
   "title_sidebar": "Contents",
   "toc_cell": false,
   "toc_position": {},
   "toc_section_display": true,
   "toc_window_display": false
  },
  "varInspector": {
   "cols": {
    "lenName": 16,
    "lenType": 16,
    "lenVar": 40
   },
   "kernels_config": {
    "python": {
     "delete_cmd_postfix": "",
     "delete_cmd_prefix": "del ",
     "library": "var_list.py",
     "varRefreshCmd": "print(var_dic_list())"
    },
    "r": {
     "delete_cmd_postfix": ") ",
     "delete_cmd_prefix": "rm(",
     "library": "var_list.r",
     "varRefreshCmd": "cat(var_dic_list()) "
    }
   },
   "types_to_exclude": [
    "module",
    "function",
    "builtin_function_or_method",
    "instance",
    "_Feature"
   ],
   "window_display": false
  }
 },
 "nbformat": 4,
 "nbformat_minor": 2
}
