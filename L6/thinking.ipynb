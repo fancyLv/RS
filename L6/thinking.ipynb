{
 "cells": [
  {
   "attachments": {},
   "cell_type": "markdown",
   "metadata": {},
   "source": [
    "# Thinking1 奇异值分解SVD的原理是怎样的，都有哪些应用场景\n",
    "**原理**  \n",
    "SVD的基本公式：$A=U\\Sigma\\mathbf{V}^\\mathrm{T}$  \n",
    "其中，  \n",
    "$A\\in{R^{m\\times n}}$，  \n",
    "$U\\in{R^{m\\times m}}$，  \n",
    "$\\Sigma\\in{R^{m\\times n}}$ 且除了主对角线上的元素以外全为0，主对角线上的每个元素都称为奇异值，且已按大小排好序，  \n",
    "$V\\in{R^{n\\times n}}$ 。  \n",
    "$U$的列向量即是$A\\mathbf{A}^\\mathrm{T}$的特征向量，一般我们将$U$中的每个特征向量叫做$A$的左奇异向量；  \n",
    "$V$的列向量即是$A^\\mathrm{T}\\mathbf{A}$的特征向量，一般我们将$V$中的每个特征向量叫做$A$的右奇异向量。  \n",
    "由于$\\Sigma$除了对角线上是奇异值其他位置都是0，那我们只需要求出每个奇异值$\\sigma$就可以了。  \n",
    "$A=U\\Sigma\\mathbf{V}^\\mathrm{T} => AV=U\\Sigma\\mathbf{V}^\\mathrm{T}V => AV=U\\Sigma => Av_i=u_i\\sigma_i => \\sigma_i=Av_i/u_i$  \n",
    "$A=U\\Sigma\\mathbf{V}^\\mathrm{T} => \\mathbf{A}^\\mathrm{T}=V\\mathbf{\\Sigma}^\\mathrm{T}\\mathbf{U}^\\mathrm{T} => \\mathbf{A}^\\mathrm{T}A=V\\mathbf{\\Sigma}^\\mathrm{T}\\mathbf{U}^\\mathrm{T}U\\Sigma\\mathbf{V}^\\mathrm{T} => \\mathbf{A}^\\mathrm{T}A=V\\Sigma^2\\mathbf{V}^\\mathrm{T}$  \n",
    "可以看出$\\mathbf{A}^\\mathrm{T}A$的特征向量组成的的确就是SVD中的$V$矩阵。类似的可以得到$A\\mathbf{A}^\\mathrm{T}$的特征向量组成的就是SVD中的$U$矩阵,  \n",
    "还可以看出特征值矩阵等于奇异值矩阵的平方，也就是说特征值和奇异值满足如下关系：$\\sigma_i=\\sqrt{\\lambda_i}$  \n",
    "\n",
    "\n",
    "**应用场景**  \n",
    "SVD可以用于PCA降维，来做数据压缩和去噪。也可以用于推荐算法，将用户和喜好对应的矩阵做特征分解，进而得到隐含的用户需求来做推荐。\n",
    "同时也可以用于NLP中的算法，如潜在语义索引（LSI）"
   ]
  },
  {
   "attachments": {},
   "cell_type": "markdown",
   "metadata": {},
   "source": [
    "# Thinking2\tfunkSVD, BiasSVD，SVD++算法之间的区别是怎样的\n",
    "## funkSVD\n",
    "funkSVD方法通过学习用户和物品的特征向量进行预测，即用户和物品的交互信息。用户的特征向量代表了用户的兴趣，物品的特征向量代表了物品的特点，且每一个维度相互对应，两个向量的内积表示用户对该物品的喜好程度。\n",
    "## BiasSVD\n",
    "BiasSVD假设评分系统包括三部分的偏置因素：  \n",
    "训练集中所有评分记录的全局平均数μ，  \n",
    "用户偏置bi表示某一特定用户的打分习惯，  \n",
    "物品偏置bj表示某一特定物品得到的打分情况。  \n",
    "BiasSVD增加了一些额外因素的考虑，因此在某些场景会比FunkSVD表现好。\n",
    "## SVD++\n",
    "SVD++算法在BiasSVD算法上进一步做了增强，增加考虑用户的隐式反馈。"
   ]
  },
  {
   "attachments": {},
   "cell_type": "markdown",
   "metadata": {},
   "source": [
    "# Thinking3\t矩阵分解算法在推荐系统中有哪些应用场景，存在哪些不足\n",
    "**应用**  \n",
    "将user-item评分问题，预测出用户对未评分物品的评分。  \n",
    "**不足**  \n",
    "模型训练比较费时；\n",
    "推荐结果不具有很好的可解释性，分解出来的用户和物品矩阵的每个维度无法和现实生活中的概念来解释\n"
   ]
  },
  {
   "attachments": {},
   "cell_type": "markdown",
   "metadata": {},
   "source": [
    "# Thinking4\titem流行度在推荐系统中有怎样的应用\n",
    "解决冷启动问题，根据流行度来推荐商品的算法，也就是什么内容吸引用户，就给用户推荐什么内容  \n",
    "协同过滤中的TopN推荐  \n",
    "考虑流行度的影响，修正相似度计算和推荐结果\n"
   ]
  },
  {
   "cell_type": "markdown",
   "metadata": {},
   "source": [
    "# Thinking5\t推荐系统的召回阶段都有哪些策略\n",
    "以内容为索引召回  \n",
    "以用户为索引召回  \n",
    "以设备为索引召回"
   ]
  },
  {
   "cell_type": "code",
   "execution_count": null,
   "metadata": {},
   "outputs": [],
   "source": []
  },
  {
   "cell_type": "code",
   "execution_count": null,
   "metadata": {},
   "outputs": [],
   "source": []
  }
 ],
 "metadata": {
  "hide_input": false,
  "kernelspec": {
   "display_name": "Python 3.7.4 64-bit ('tensorflow': conda)",
   "language": "python",
   "name": "python37464bittensorflowconda8d92e938f73742f8962ec619222b1557"
  },
  "language_info": {
   "codemirror_mode": {
    "name": "ipython",
    "version": 3
   },
   "file_extension": ".py",
   "mimetype": "text/x-python",
   "name": "python",
   "nbconvert_exporter": "python",
   "pygments_lexer": "ipython3",
   "version": "3.7.4"
  },
  "toc": {
   "base_numbering": 1,
   "nav_menu": {},
   "number_sections": true,
   "sideBar": true,
   "skip_h1_title": false,
   "title_cell": "Table of Contents",
   "title_sidebar": "Contents",
   "toc_cell": false,
   "toc_position": {},
   "toc_section_display": true,
   "toc_window_display": false
  },
  "varInspector": {
   "cols": {
    "lenName": 16,
    "lenType": 16,
    "lenVar": 40
   },
   "kernels_config": {
    "python": {
     "delete_cmd_postfix": "",
     "delete_cmd_prefix": "del ",
     "library": "var_list.py",
     "varRefreshCmd": "print(var_dic_list())"
    },
    "r": {
     "delete_cmd_postfix": ") ",
     "delete_cmd_prefix": "rm(",
     "library": "var_list.r",
     "varRefreshCmd": "cat(var_dic_list()) "
    }
   },
   "types_to_exclude": [
    "module",
    "function",
    "builtin_function_or_method",
    "instance",
    "_Feature"
   ],
   "window_display": false
  }
 },
 "nbformat": 4,
 "nbformat_minor": 2
}
